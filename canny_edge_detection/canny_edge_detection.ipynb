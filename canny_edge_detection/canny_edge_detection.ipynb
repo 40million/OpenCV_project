{
 "cells": [
  {
   "cell_type": "markdown",
   "metadata": {},
   "source": [
    "https://docs.opencv.org/3.1.0/da/d22/tutorial_py_canny.html\n",
    "\n",
    "https://www.meccanismocomplesso.org/en/opencv-python-canny-edge-detection/\n",
    "\n",
    "https://pythonprogramming.net/template-matching-python-opencv-tutorial/?completed=/canny-edge-detection-gradients-python-opencv-tutorial/"
   ]
  },
  {
   "cell_type": "markdown",
   "metadata": {},
   "source": [
    "image gradients and edge detection. Image gradients can be used to measure directional intensity. \n",
    "We can use these gradients to convert to pure edges, can also use [Canny Edge detection](https://docs.opencv.org/master/dd/d1a/group__imgproc__feature.html#ga04723e007ed888ddf11d9ba04e2232de)."
   ]
  },
  {
   "cell_type": "code",
   "execution_count": 3,
   "metadata": {},
   "outputs": [],
   "source": [
    "import cv2\n",
    "import numpy as np\n",
    "\n",
    "frame = cv2.imread('img11.jpg',1)\n",
    "frame = cv2.resize(frame, dsize=None, fx=0.3, fy=0.3)\n",
    "hsv = cv2.cvtColor(frame, cv2.COLOR_BGR2HSV)\n",
    "\n",
    "lower_red = np.array([30,150,50])\n",
    "upper_red = np.array([255,255,180])\n",
    "\n",
    "mask = cv2.inRange(hsv, lower_red, upper_red)\n",
    "res = cv2.bitwise_and(frame,frame, mask= mask)\n",
    "\n",
    "kernel = np.ones((5,5),np.uint8)\n",
    "erosion = cv2.erode(mask,kernel,iterations=1)\n",
    "dilation = cv2.dilate(mask,kernel,iterations=1)\n",
    "\n",
    "opening = cv2.morphologyEx(mask,cv2.MORPH_OPEN,kernel)\n",
    "closing = cv2.morphologyEx(mask,cv2.MORPH_CLOSE,kernel)\n",
    "\n",
    "laplacian = cv2.Laplacian(frame,cv2.CV_64F)\n",
    "sobelx = cv2.Sobel(frame,cv2.CV_64F,1,0,ksize=5)\n",
    "sobely = cv2.Sobel(frame,cv2.CV_64F,0,1,ksize=5)\n",
    "\n",
    "while True:\n",
    "    cv2.imshow('Original',frame)\n",
    "    # cv2.imshow('Mask',res)\n",
    "    # cv2.imshow('erosion',erosion)\n",
    "    # cv2.imshow('dilation',dilation)\n",
    "    # cv2.imshow('opening',opening)\n",
    "    # cv2.imshow('closing',closing)\n",
    "    cv2.imshow('laplacian',laplacian)\n",
    "    cv2.imshow('sobelx',sobelx)\n",
    "    cv2.imshow('sobely',sobely)\n",
    "\n",
    "    k = cv2.waitKey(0)\n",
    "    if k == ord('q'):\n",
    "        break\n",
    "\n",
    "cv2.destroyAllWindows()"
   ]
  },
  {
   "cell_type": "code",
   "execution_count": 4,
   "metadata": {},
   "outputs": [],
   "source": [
    "# canny边缘检测：1.灰度处理，2.高斯滤波(去除噪声)，3.调用canny方法\n",
    "\n",
    "import cv2\n",
    "import numpy as np\n",
    "\n",
    "frame = cv2.imread('img11.jpg',1)\n",
    "frame = cv2.resize(frame, dsize=None, fx=0.3, fy=0.3)\n",
    "gray = cv2.cvtColor(frame, cv2.COLOR_BGR2GRAY)\n",
    "\n",
    "# 使用高斯模糊消除高频噪声，3x3内核\n",
    "imgG = cv2.GaussianBlur(gray,(3,3),0)\n",
    "# 查找图像边缘，图片某处经过卷积后的值与阈值进行比较\n",
    "edges = cv2.Canny(imgG,20,100) #img, lower, upper\n",
    "\n",
    "while True:\n",
    "    cv2.imshow('Original',frame)\n",
    "    cv2.imshow('Canny',edges)\n",
    "\n",
    "    k = cv2.waitKey(0)\n",
    "    if k == ord('q'):\n",
    "        break\n",
    "\n",
    "cv2.destroyAllWindows()"
   ]
  },
  {
   "cell_type": "markdown",
   "metadata": {},
   "source": [
    "## Zero-parameter, automatic Canny edge detection\n",
    "\n",
    "it’s clear that the automatic, zero-parameter version of the Canny edge detection obtains the best results with the least effort.\n",
    "\n",
    "[zero-parameter-automatic-canny-edge-detection-with-python-and-opencv](https://www.pyimagesearch.com/2015/04/06/zero-parameter-automatic-canny-edge-detection-with-python-and-opencv/)，auto_canny.py"
   ]
  },
  {
   "cell_type": "markdown",
   "metadata": {},
   "source": [
    "### The Canny edge detector\n",
    "\n",
    "The Canny edge detector is still widely used today was one of the default edge detectors in image processing.\n",
    "\n",
    "The Canny edge detection algorithm can be broken down into 5 steps:\n",
    "\n",
    "1. Smooth the image using a Gaussian filter to remove high frequency noise.\n",
    "2. Compute the gradient intensity representations of the image.\n",
    "3. Apply non-maximum suppression to remove “false” responses to to edge detection.\n",
    "4. Apply thresholding using a lower and upper boundary on the gradient values.\n",
    "5. Track edges using hysteresis by suppressing weak edges that are not connected to strong edges.\n",
    "\n",
    "The OpenCV implementation of the Canny edge detector: `cv2.canny(image, lower, upper)`.\n",
    "\n",
    "The lower and upper are integer thresholds. The problem becomes determining optimal lower and upper threshold values.\n",
    "\n",
    "It is important when processing multiple images with different contents captured under varying lighting conditions.\n",
    "\n",
    "This is a trick that relies on basic statistics that can remove the manual tuning of the thresholds for Canny edge detection. This trick will save time for parameter tuning — and still get a nice Canny edge map after applying the function."
   ]
  },
  {
   "cell_type": "code",
   "execution_count": 5,
   "metadata": {},
   "outputs": [],
   "source": [
    "import numpy as np\n",
    "import argparse # 解析命令行参数\n",
    "import glob # 获得图像的磁盘路径\n",
    "import cv2\n",
    "\n",
    "# image是单通道图像\n",
    "# sigma可以用来改变基于简单统计数据确定的百分比阈值\n",
    "def auto_canny(image, sigma=0.33):\n",
    "    # compute the median of the single channel pixel intensities\n",
    "    v = np.median(image)\n",
    "\n",
    "    # construct two thresholds using the median\n",
    "    lower = int(max(0, (1.0 - sigma) * v))\n",
    "    upper = int(min(255, (1.0 + sigma) * v))\n",
    "    # 边缘检测,灰度值小于lower的会被丢弃，大于upper的会被保留，之间的部分自动检测\n",
    "    edged = cv2.Canny(image, lower, upper)\n",
    "    print(\"lower:\", lower, \"upper:\", upper)\n",
    "\n",
    "    # return the edged image\n",
    "    return edged"
   ]
  },
  {
   "cell_type": "code",
   "execution_count": 8,
   "metadata": {},
   "outputs": [
    {
     "name": "stdout",
     "output_type": "stream",
     "text": [
      "lower: 53 upper: 106\n"
     ]
    }
   ],
   "source": [
    "# load the image, convert it to grayscale, and blur it slightly\n",
    "image = cv2.imread('img11.jpg')\n",
    "image = cv2.resize(image, dsize=None, fx=0.3, fy=0.3)\n",
    "gray = cv2.cvtColor(image, cv2.COLOR_BGR2GRAY)\n",
    "blurred = cv2.GaussianBlur(gray, (3, 3), 0)\n",
    "\n",
    "# apply Canny edge detection\n",
    "wide = cv2.Canny(blurred, 10, 200) # A wide threshold\n",
    "tight = cv2.Canny(blurred, 225, 250) # A tight threshold\n",
    "auto = auto_canny(blurred) # automatically determined threshold\n",
    "\n",
    "# show the images\n",
    "while True:\n",
    "    cv2.imshow(\"Original\", image)\n",
    "    cv2.imshow(\"Edges\", np.hstack([wide, tight, auto]))\n",
    "    k = cv2.waitKey(0)\n",
    "    if k==ord('q'):\n",
    "        break\n",
    "\n",
    "cv2.destroyAllWindows()"
   ]
  }
 ],
 "metadata": {
  "kernelspec": {
   "display_name": "Python 3",
   "language": "python",
   "name": "python3"
  },
  "language_info": {
   "codemirror_mode": {
    "name": "ipython",
    "version": 3
   },
   "file_extension": ".py",
   "mimetype": "text/x-python",
   "name": "python",
   "nbconvert_exporter": "python",
   "pygments_lexer": "ipython3",
   "version": "3.6.7"
  }
 },
 "nbformat": 4,
 "nbformat_minor": 2
}
